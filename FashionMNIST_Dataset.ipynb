{
  "nbformat": 4,
  "nbformat_minor": 0,
  "metadata": {
    "colab": {
      "name": "FashionMNIST Dataset.ipynb",
      "provenance": [],
      "collapsed_sections": [],
      "machine_shape": "hm"
    },
    "kernelspec": {
      "name": "python3",
      "display_name": "Python 3"
    },
    "accelerator": "GPU"
  },
  "cells": [
    {
      "cell_type": "code",
      "metadata": {
        "id": "QNooiP9gPpH5",
        "colab_type": "code",
        "colab": {}
      },
      "source": [
        "import numpy as np\n",
        "import matplotlib.pyplot as plt\n",
        "import seaborn as sns\n",
        "\n",
        "import torch\n",
        "import torch.optim as optim\n",
        "import torch.nn as nn\n",
        "import torchvision\n",
        "import torchvision.datasets as datasets\n",
        "import torchvision.models as models\n",
        "import torchvision.transforms as transforms\n",
        "import torch.nn.functional as F\n",
        "from sklearn.metrics import accuracy_score"
      ],
      "execution_count": 0,
      "outputs": []
    },
    {
      "cell_type": "code",
      "metadata": {
        "id": "zLDXOmt9S9HQ",
        "colab_type": "code",
        "colab": {}
      },
      "source": [
        "import warnings\n",
        "warnings.filterwarnings(\"ignore\")"
      ],
      "execution_count": 0,
      "outputs": []
    },
    {
      "cell_type": "code",
      "metadata": {
        "id": "cuo9zPXPBrnk",
        "colab_type": "code",
        "colab": {}
      },
      "source": [
        "transform=transforms.ToTensor()"
      ],
      "execution_count": 0,
      "outputs": []
    },
    {
      "cell_type": "code",
      "metadata": {
        "id": "p41pU_KPQqMq",
        "colab_type": "code",
        "outputId": "763146f6-3a2e-4276-d330-eaad4e33cf37",
        "colab": {
          "base_uri": "https://localhost:8080/",
          "height": 283
        }
      },
      "source": [
        "trainset=datasets.FashionMNIST(root='./FashionMNISTData',train=True,transform=transform,download=True)"
      ],
      "execution_count": 0,
      "outputs": [
        {
          "output_type": "stream",
          "text": [
            "\r0it [00:00, ?it/s]"
          ],
          "name": "stderr"
        },
        {
          "output_type": "stream",
          "text": [
            "Downloading http://fashion-mnist.s3-website.eu-central-1.amazonaws.com/train-images-idx3-ubyte.gz to ./FashionMNISTData/FashionMNIST/raw/train-images-idx3-ubyte.gz\n"
          ],
          "name": "stdout"
        },
        {
          "output_type": "stream",
          "text": [
            "26427392it [00:01, 14717465.25it/s]                             \n"
          ],
          "name": "stderr"
        },
        {
          "output_type": "stream",
          "text": [
            "Extracting ./FashionMNISTData/FashionMNIST/raw/train-images-idx3-ubyte.gz to ./FashionMNISTData/FashionMNIST/raw\n"
          ],
          "name": "stdout"
        },
        {
          "output_type": "stream",
          "text": [
            "\r0it [00:00, ?it/s]"
          ],
          "name": "stderr"
        },
        {
          "output_type": "stream",
          "text": [
            "Downloading http://fashion-mnist.s3-website.eu-central-1.amazonaws.com/train-labels-idx1-ubyte.gz to ./FashionMNISTData/FashionMNIST/raw/train-labels-idx1-ubyte.gz\n"
          ],
          "name": "stdout"
        },
        {
          "output_type": "stream",
          "text": [
            "32768it [00:00, 102064.14it/s]           \n",
            "0it [00:00, ?it/s]"
          ],
          "name": "stderr"
        },
        {
          "output_type": "stream",
          "text": [
            "Extracting ./FashionMNISTData/FashionMNIST/raw/train-labels-idx1-ubyte.gz to ./FashionMNISTData/FashionMNIST/raw\n",
            "Downloading http://fashion-mnist.s3-website.eu-central-1.amazonaws.com/t10k-images-idx3-ubyte.gz to ./FashionMNISTData/FashionMNIST/raw/t10k-images-idx3-ubyte.gz\n"
          ],
          "name": "stdout"
        },
        {
          "output_type": "stream",
          "text": [
            "4423680it [00:01, 4283655.27it/s]                             \n",
            "0it [00:00, ?it/s]"
          ],
          "name": "stderr"
        },
        {
          "output_type": "stream",
          "text": [
            "Extracting ./FashionMNISTData/FashionMNIST/raw/t10k-images-idx3-ubyte.gz to ./FashionMNISTData/FashionMNIST/raw\n",
            "Downloading http://fashion-mnist.s3-website.eu-central-1.amazonaws.com/t10k-labels-idx1-ubyte.gz to ./FashionMNISTData/FashionMNIST/raw/t10k-labels-idx1-ubyte.gz\n"
          ],
          "name": "stdout"
        },
        {
          "output_type": "stream",
          "text": [
            "8192it [00:00, 37365.37it/s]            "
          ],
          "name": "stderr"
        },
        {
          "output_type": "stream",
          "text": [
            "Extracting ./FashionMNISTData/FashionMNIST/raw/t10k-labels-idx1-ubyte.gz to ./FashionMNISTData/FashionMNIST/raw\n",
            "Processing...\n",
            "Done!\n"
          ],
          "name": "stdout"
        },
        {
          "output_type": "stream",
          "text": [
            "\n"
          ],
          "name": "stderr"
        }
      ]
    },
    {
      "cell_type": "code",
      "metadata": {
        "id": "tEQ0V8m2SGLm",
        "colab_type": "code",
        "colab": {}
      },
      "source": [
        "trainloader=torch.utils.data.DataLoader(trainset,batch_size=1,shuffle=True)"
      ],
      "execution_count": 0,
      "outputs": []
    },
    {
      "cell_type": "code",
      "metadata": {
        "id": "zjJBTJ5cSGJV",
        "colab_type": "code",
        "colab": {}
      },
      "source": [
        "testset=datasets.FashionMNIST(root='./FashionMNISTData',train=False,transform=transform,download=True)"
      ],
      "execution_count": 0,
      "outputs": []
    },
    {
      "cell_type": "code",
      "metadata": {
        "id": "cuTTX6mBSGF-",
        "colab_type": "code",
        "colab": {}
      },
      "source": [
        "testloader=torch.utils.data.DataLoader(testset,batch_size=1,shuffle=False)"
      ],
      "execution_count": 0,
      "outputs": []
    },
    {
      "cell_type": "code",
      "metadata": {
        "id": "dyU9bHIypLBu",
        "colab_type": "code",
        "colab": {}
      },
      "source": [
        "dataiter = iter(trainloader)\n",
        "images, labels = dataiter.next()"
      ],
      "execution_count": 0,
      "outputs": []
    },
    {
      "cell_type": "code",
      "metadata": {
        "id": "z5DPccTPpZSe",
        "colab_type": "code",
        "outputId": "2da22dab-a407-4ede-b0e9-732cd22c7642",
        "colab": {
          "base_uri": "https://localhost:8080/",
          "height": 34
        }
      },
      "source": [
        "images.shape"
      ],
      "execution_count": 0,
      "outputs": [
        {
          "output_type": "execute_result",
          "data": {
            "text/plain": [
              "torch.Size([1, 1, 28, 28])"
            ]
          },
          "metadata": {
            "tags": []
          },
          "execution_count": 9
        }
      ]
    },
    {
      "cell_type": "code",
      "metadata": {
        "id": "M9nWl5nep2wg",
        "colab_type": "code",
        "colab": {}
      },
      "source": [
        "X_train,Y_train=torch.load('FashionMNISTData/FashionMNIST/processed/training.pt')\n",
        "X_test,Y_test=torch.load('FashionMNISTData/FashionMNIST/processed/test.pt')"
      ],
      "execution_count": 0,
      "outputs": []
    },
    {
      "cell_type": "code",
      "metadata": {
        "id": "MxhFYQoUpqzX",
        "colab_type": "code",
        "colab": {}
      },
      "source": [
        "X_train=X_train.reshape(-1,1,28,28)\n",
        "X_test=X_test.reshape(-1,1,28,28)"
      ],
      "execution_count": 0,
      "outputs": []
    },
    {
      "cell_type": "code",
      "metadata": {
        "id": "r3l0DTpLgHXh",
        "colab_type": "code",
        "outputId": "1e2a10b3-2552-4218-9865-d1c056f26912",
        "colab": {
          "base_uri": "https://localhost:8080/",
          "height": 34
        }
      },
      "source": [
        "X_test.shape"
      ],
      "execution_count": 0,
      "outputs": [
        {
          "output_type": "execute_result",
          "data": {
            "text/plain": [
              "torch.Size([10000, 1, 28, 28])"
            ]
          },
          "metadata": {
            "tags": []
          },
          "execution_count": 12
        }
      ]
    },
    {
      "cell_type": "code",
      "metadata": {
        "id": "glxFDDPGSGDm",
        "colab_type": "code",
        "colab": {}
      },
      "source": [
        "device=torch.device(\"cuda\")"
      ],
      "execution_count": 0,
      "outputs": []
    },
    {
      "cell_type": "code",
      "metadata": {
        "id": "-3oZ3HkNSF0l",
        "colab_type": "code",
        "outputId": "63dacb1b-8287-465a-de6f-1d7d17999357",
        "colab": {
          "base_uri": "https://localhost:8080/",
          "height": 34
        }
      },
      "source": [
        "print(device)"
      ],
      "execution_count": 0,
      "outputs": [
        {
          "output_type": "stream",
          "text": [
            "cuda\n"
          ],
          "name": "stdout"
        }
      ]
    },
    {
      "cell_type": "code",
      "metadata": {
        "id": "SD52BlbXngEO",
        "colab_type": "code",
        "colab": {}
      },
      "source": [
        "class ConvNet(nn.Module):\n",
        "    def __init__(self):\n",
        "        super().__init__()\n",
        "        self.net=nn.Sequential(\n",
        "            nn.Conv2d(1, 6, 5),\n",
        "            nn.ReLU(),\n",
        "            nn.Conv2d(6, 16, 5),\n",
        "            nn.ReLU(),\n",
        "            nn.Conv2d(16, 32, 3),\n",
        "            nn.MaxPool2d(2, 2),\n",
        "            nn.Conv2d(32, 64, 3),\n",
        "            nn.MaxPool2d(2, 2)\n",
        "        )\n",
        "        self.fc=nn.Sequential(\n",
        "            nn.Linear(64 * 3 * 3, 96),\n",
        "            nn.ReLU(),\n",
        "            nn.Linear(96, 16),\n",
        "            nn.ReLU(),\n",
        "            nn.Linear(16, 10),\n",
        "            nn.Softmax()\n",
        "        )\n",
        "\n",
        "    def forward(self, x):\n",
        "        x = self.net(x)\n",
        "        x = x.view(-1, 64 * 3 * 3)\n",
        "        x = self.fc(x)\n",
        "        return x\n",
        "\n",
        "\n",
        "net = ConvNet()"
      ],
      "execution_count": 0,
      "outputs": []
    },
    {
      "cell_type": "code",
      "metadata": {
        "id": "oBAshfGVWaU9",
        "colab_type": "code",
        "colab": {}
      },
      "source": [
        "def fit(X,Y,model,opt,loss_fn,epochs):\n",
        "  for epoch in range(epochs):\n",
        "    loss=loss_fn(model(X),Y)\n",
        "    loss.backward()\n",
        "    opt.step()\n",
        "    opt.zero_grad()\n",
        "    if(epoch%10==0):\n",
        "      print(epoch,'/',5000,' :  ',loss.item())\n",
        "  return loss.item()"
      ],
      "execution_count": 0,
      "outputs": []
    },
    {
      "cell_type": "code",
      "metadata": {
        "id": "w-ZSIw8LYqf6",
        "colab_type": "code",
        "colab": {}
      },
      "source": [
        "model=net\n",
        "opt=optim.Adam(net.parameters(),lr=0.001,betas=(0.8,0.888))\n",
        "loss_fn=nn.CrossEntropyLoss()"
      ],
      "execution_count": 0,
      "outputs": []
    },
    {
      "cell_type": "code",
      "metadata": {
        "id": "tNhq6nq7b-gG",
        "colab_type": "code",
        "colab": {}
      },
      "source": [
        "X_train=X_train.to(device,dtype=torch.float)\n",
        "Y_train=Y_train.to(device)\n",
        "X_test=X_test.to(device,dtype=torch.float)\n",
        "Y_test=Y_test.to(device)\n",
        "model=model.to(device)"
      ],
      "execution_count": 0,
      "outputs": []
    },
    {
      "cell_type": "code",
      "metadata": {
        "id": "0mRlVek9ZHsg",
        "colab_type": "code",
        "outputId": "00641bc5-4d22-4ed9-e5f1-311ad96e6bb6",
        "colab": {
          "base_uri": "https://localhost:8080/",
          "height": 1000
        }
      },
      "source": [
        "%%time\n",
        "print(fit(X_train,Y_train,model,opt,loss_fn,epochs=5000))"
      ],
      "execution_count": 0,
      "outputs": [
        {
          "output_type": "stream",
          "text": [
            "0 / 5000  :   2.3160932064056396\n",
            "10 / 5000  :   2.0752251148223877\n",
            "20 / 5000  :   1.8954331874847412\n",
            "30 / 5000  :   1.855053424835205\n",
            "40 / 5000  :   1.836181402206421\n",
            "50 / 5000  :   1.8316477537155151\n",
            "60 / 5000  :   1.8205456733703613\n",
            "70 / 5000  :   1.8092879056930542\n",
            "80 / 5000  :   1.8077423572540283\n",
            "90 / 5000  :   1.8015042543411255\n",
            "100 / 5000  :   1.7988921403884888\n",
            "110 / 5000  :   1.800792932510376\n",
            "120 / 5000  :   1.792201042175293\n",
            "130 / 5000  :   1.722718358039856\n",
            "140 / 5000  :   1.6976895332336426\n",
            "150 / 5000  :   1.6886628866195679\n",
            "160 / 5000  :   1.6756664514541626\n",
            "170 / 5000  :   1.662192940711975\n",
            "180 / 5000  :   1.6603429317474365\n",
            "190 / 5000  :   1.667536735534668\n",
            "200 / 5000  :   1.6511003971099854\n",
            "210 / 5000  :   1.6531826257705688\n",
            "220 / 5000  :   1.6434276103973389\n",
            "230 / 5000  :   1.6442184448242188\n",
            "240 / 5000  :   1.6469258069992065\n",
            "250 / 5000  :   1.6399940252304077\n",
            "260 / 5000  :   1.6374845504760742\n",
            "270 / 5000  :   1.6370487213134766\n",
            "280 / 5000  :   1.6292728185653687\n",
            "290 / 5000  :   1.6333425045013428\n",
            "300 / 5000  :   1.6253353357315063\n",
            "310 / 5000  :   1.6263465881347656\n",
            "320 / 5000  :   1.6232657432556152\n",
            "330 / 5000  :   1.625298261642456\n",
            "340 / 5000  :   1.6271485090255737\n",
            "350 / 5000  :   1.620232105255127\n",
            "360 / 5000  :   1.6290831565856934\n",
            "370 / 5000  :   1.6186970472335815\n",
            "380 / 5000  :   1.6271047592163086\n",
            "390 / 5000  :   1.6187090873718262\n",
            "400 / 5000  :   1.6147719621658325\n",
            "410 / 5000  :   1.614053726196289\n",
            "420 / 5000  :   1.6268233060836792\n",
            "430 / 5000  :   1.6103041172027588\n",
            "440 / 5000  :   1.6097360849380493\n",
            "450 / 5000  :   1.6096603870391846\n",
            "460 / 5000  :   1.6134754419326782\n",
            "470 / 5000  :   1.6140817403793335\n",
            "480 / 5000  :   1.6059908866882324\n",
            "490 / 5000  :   1.6082161664962769\n",
            "500 / 5000  :   1.608699083328247\n",
            "510 / 5000  :   1.6084595918655396\n",
            "520 / 5000  :   1.6091989278793335\n",
            "530 / 5000  :   1.6067191362380981\n",
            "540 / 5000  :   1.6028046607971191\n",
            "550 / 5000  :   1.60216224193573\n",
            "560 / 5000  :   1.611831545829773\n",
            "570 / 5000  :   1.6051673889160156\n",
            "580 / 5000  :   1.6030107736587524\n",
            "590 / 5000  :   1.6018080711364746\n",
            "600 / 5000  :   1.6028153896331787\n",
            "610 / 5000  :   1.5982533693313599\n",
            "620 / 5000  :   1.6014074087142944\n",
            "630 / 5000  :   1.6010634899139404\n",
            "640 / 5000  :   1.598905324935913\n",
            "650 / 5000  :   1.5998733043670654\n",
            "660 / 5000  :   1.597473382949829\n",
            "670 / 5000  :   1.5980044603347778\n",
            "680 / 5000  :   1.5993200540542603\n",
            "690 / 5000  :   1.5975009202957153\n",
            "700 / 5000  :   1.6026324033737183\n",
            "710 / 5000  :   1.5957564115524292\n",
            "720 / 5000  :   1.5963135957717896\n",
            "730 / 5000  :   1.599564790725708\n",
            "740 / 5000  :   1.5942450761795044\n",
            "750 / 5000  :   1.5966730117797852\n",
            "760 / 5000  :   1.593940258026123\n",
            "770 / 5000  :   1.5987263917922974\n",
            "780 / 5000  :   1.5937004089355469\n",
            "790 / 5000  :   1.5936988592147827\n",
            "800 / 5000  :   1.594105839729309\n",
            "810 / 5000  :   1.591579556465149\n",
            "820 / 5000  :   1.5948196649551392\n",
            "830 / 5000  :   1.5920970439910889\n",
            "840 / 5000  :   1.5949435234069824\n",
            "850 / 5000  :   1.5926342010498047\n",
            "860 / 5000  :   1.5914183855056763\n",
            "870 / 5000  :   1.5923556089401245\n",
            "880 / 5000  :   1.5932832956314087\n",
            "890 / 5000  :   1.592837929725647\n",
            "900 / 5000  :   1.593004584312439\n",
            "910 / 5000  :   1.5989161729812622\n",
            "920 / 5000  :   1.5907175540924072\n",
            "930 / 5000  :   1.5985218286514282\n",
            "940 / 5000  :   1.592025876045227\n",
            "950 / 5000  :   1.5892504453659058\n",
            "960 / 5000  :   1.6015515327453613\n",
            "970 / 5000  :   1.592167854309082\n",
            "980 / 5000  :   1.5900282859802246\n",
            "990 / 5000  :   1.5967609882354736\n",
            "1000 / 5000  :   1.589338779449463\n",
            "1010 / 5000  :   1.5902209281921387\n",
            "1020 / 5000  :   1.5888656377792358\n",
            "1030 / 5000  :   1.5890434980392456\n",
            "1040 / 5000  :   1.5918323993682861\n",
            "1050 / 5000  :   1.5894681215286255\n",
            "1060 / 5000  :   1.5894185304641724\n",
            "1070 / 5000  :   1.5975407361984253\n",
            "1080 / 5000  :   1.5898511409759521\n",
            "1090 / 5000  :   1.587353229522705\n",
            "1100 / 5000  :   1.58699369430542\n",
            "1110 / 5000  :   1.5898234844207764\n",
            "1120 / 5000  :   1.5872015953063965\n",
            "1130 / 5000  :   1.5864723920822144\n",
            "1140 / 5000  :   1.6024718284606934\n",
            "1150 / 5000  :   1.5886099338531494\n",
            "1160 / 5000  :   1.586987018585205\n",
            "1170 / 5000  :   1.5875797271728516\n",
            "1180 / 5000  :   1.5883309841156006\n",
            "1190 / 5000  :   1.5863178968429565\n",
            "1200 / 5000  :   1.585779070854187\n",
            "1210 / 5000  :   1.5948420763015747\n",
            "1220 / 5000  :   1.5865592956542969\n",
            "1230 / 5000  :   1.5864834785461426\n",
            "1240 / 5000  :   1.587133765220642\n",
            "1250 / 5000  :   1.586171269416809\n",
            "1260 / 5000  :   1.5852601528167725\n",
            "1270 / 5000  :   1.5972543954849243\n",
            "1280 / 5000  :   1.586369514465332\n",
            "1290 / 5000  :   1.5850155353546143\n",
            "1300 / 5000  :   1.5906131267547607\n",
            "1310 / 5000  :   1.5866460800170898\n",
            "1320 / 5000  :   1.585436463356018\n",
            "1330 / 5000  :   1.5847795009613037\n",
            "1340 / 5000  :   1.597342848777771\n",
            "1350 / 5000  :   1.5855919122695923\n",
            "1360 / 5000  :   1.584636926651001\n",
            "1370 / 5000  :   1.5845884084701538\n",
            "1380 / 5000  :   1.595484733581543\n",
            "1390 / 5000  :   1.585306167602539\n",
            "1400 / 5000  :   1.5844076871871948\n",
            "1410 / 5000  :   1.584559679031372\n",
            "1420 / 5000  :   1.592455267906189\n",
            "1430 / 5000  :   1.585319995880127\n",
            "1440 / 5000  :   1.5848199129104614\n",
            "1450 / 5000  :   1.586856484413147\n",
            "1460 / 5000  :   1.5844227075576782\n",
            "1470 / 5000  :   1.5845144987106323\n",
            "1480 / 5000  :   1.584775447845459\n",
            "1490 / 5000  :   1.586998701095581\n",
            "1500 / 5000  :   1.5849477052688599\n"
          ],
          "name": "stdout"
        },
        {
          "output_type": "error",
          "ename": "KeyboardInterrupt",
          "evalue": "ignored",
          "traceback": [
            "\u001b[0;31m---------------------------------------------------------------------------\u001b[0m",
            "\u001b[0;31mKeyboardInterrupt\u001b[0m                         Traceback (most recent call last)",
            "\u001b[0;32m<ipython-input-19-ceb5a70f4e6b>\u001b[0m in \u001b[0;36m<module>\u001b[0;34m()\u001b[0m\n\u001b[0;32m----> 1\u001b[0;31m \u001b[0mget_ipython\u001b[0m\u001b[0;34m(\u001b[0m\u001b[0;34m)\u001b[0m\u001b[0;34m.\u001b[0m\u001b[0mrun_cell_magic\u001b[0m\u001b[0;34m(\u001b[0m\u001b[0;34m'time'\u001b[0m\u001b[0;34m,\u001b[0m \u001b[0;34m''\u001b[0m\u001b[0;34m,\u001b[0m \u001b[0;34m'print(fit(X_train,Y_train,model,opt,loss_fn,epochs=5000))'\u001b[0m\u001b[0;34m)\u001b[0m\u001b[0;34m\u001b[0m\u001b[0;34m\u001b[0m\u001b[0m\n\u001b[0m",
            "\u001b[0;32m/usr/local/lib/python3.6/dist-packages/IPython/core/interactiveshell.py\u001b[0m in \u001b[0;36mrun_cell_magic\u001b[0;34m(self, magic_name, line, cell)\u001b[0m\n\u001b[1;32m   2115\u001b[0m             \u001b[0mmagic_arg_s\u001b[0m \u001b[0;34m=\u001b[0m \u001b[0mself\u001b[0m\u001b[0;34m.\u001b[0m\u001b[0mvar_expand\u001b[0m\u001b[0;34m(\u001b[0m\u001b[0mline\u001b[0m\u001b[0;34m,\u001b[0m \u001b[0mstack_depth\u001b[0m\u001b[0;34m)\u001b[0m\u001b[0;34m\u001b[0m\u001b[0;34m\u001b[0m\u001b[0m\n\u001b[1;32m   2116\u001b[0m             \u001b[0;32mwith\u001b[0m \u001b[0mself\u001b[0m\u001b[0;34m.\u001b[0m\u001b[0mbuiltin_trap\u001b[0m\u001b[0;34m:\u001b[0m\u001b[0;34m\u001b[0m\u001b[0;34m\u001b[0m\u001b[0m\n\u001b[0;32m-> 2117\u001b[0;31m                 \u001b[0mresult\u001b[0m \u001b[0;34m=\u001b[0m \u001b[0mfn\u001b[0m\u001b[0;34m(\u001b[0m\u001b[0mmagic_arg_s\u001b[0m\u001b[0;34m,\u001b[0m \u001b[0mcell\u001b[0m\u001b[0;34m)\u001b[0m\u001b[0;34m\u001b[0m\u001b[0;34m\u001b[0m\u001b[0m\n\u001b[0m\u001b[1;32m   2118\u001b[0m             \u001b[0;32mreturn\u001b[0m \u001b[0mresult\u001b[0m\u001b[0;34m\u001b[0m\u001b[0;34m\u001b[0m\u001b[0m\n\u001b[1;32m   2119\u001b[0m \u001b[0;34m\u001b[0m\u001b[0m\n",
            "\u001b[0;32m</usr/local/lib/python3.6/dist-packages/decorator.py:decorator-gen-60>\u001b[0m in \u001b[0;36mtime\u001b[0;34m(self, line, cell, local_ns)\u001b[0m\n",
            "\u001b[0;32m/usr/local/lib/python3.6/dist-packages/IPython/core/magic.py\u001b[0m in \u001b[0;36m<lambda>\u001b[0;34m(f, *a, **k)\u001b[0m\n\u001b[1;32m    186\u001b[0m     \u001b[0;31m# but it's overkill for just that one bit of state.\u001b[0m\u001b[0;34m\u001b[0m\u001b[0;34m\u001b[0m\u001b[0;34m\u001b[0m\u001b[0m\n\u001b[1;32m    187\u001b[0m     \u001b[0;32mdef\u001b[0m \u001b[0mmagic_deco\u001b[0m\u001b[0;34m(\u001b[0m\u001b[0marg\u001b[0m\u001b[0;34m)\u001b[0m\u001b[0;34m:\u001b[0m\u001b[0;34m\u001b[0m\u001b[0;34m\u001b[0m\u001b[0m\n\u001b[0;32m--> 188\u001b[0;31m         \u001b[0mcall\u001b[0m \u001b[0;34m=\u001b[0m \u001b[0;32mlambda\u001b[0m \u001b[0mf\u001b[0m\u001b[0;34m,\u001b[0m \u001b[0;34m*\u001b[0m\u001b[0ma\u001b[0m\u001b[0;34m,\u001b[0m \u001b[0;34m**\u001b[0m\u001b[0mk\u001b[0m\u001b[0;34m:\u001b[0m \u001b[0mf\u001b[0m\u001b[0;34m(\u001b[0m\u001b[0;34m*\u001b[0m\u001b[0ma\u001b[0m\u001b[0;34m,\u001b[0m \u001b[0;34m**\u001b[0m\u001b[0mk\u001b[0m\u001b[0;34m)\u001b[0m\u001b[0;34m\u001b[0m\u001b[0;34m\u001b[0m\u001b[0m\n\u001b[0m\u001b[1;32m    189\u001b[0m \u001b[0;34m\u001b[0m\u001b[0m\n\u001b[1;32m    190\u001b[0m         \u001b[0;32mif\u001b[0m \u001b[0mcallable\u001b[0m\u001b[0;34m(\u001b[0m\u001b[0marg\u001b[0m\u001b[0;34m)\u001b[0m\u001b[0;34m:\u001b[0m\u001b[0;34m\u001b[0m\u001b[0;34m\u001b[0m\u001b[0m\n",
            "\u001b[0;32m/usr/local/lib/python3.6/dist-packages/IPython/core/magics/execution.py\u001b[0m in \u001b[0;36mtime\u001b[0;34m(self, line, cell, local_ns)\u001b[0m\n\u001b[1;32m   1187\u001b[0m         \u001b[0;32mif\u001b[0m \u001b[0mmode\u001b[0m\u001b[0;34m==\u001b[0m\u001b[0;34m'eval'\u001b[0m\u001b[0;34m:\u001b[0m\u001b[0;34m\u001b[0m\u001b[0;34m\u001b[0m\u001b[0m\n\u001b[1;32m   1188\u001b[0m             \u001b[0mst\u001b[0m \u001b[0;34m=\u001b[0m \u001b[0mclock2\u001b[0m\u001b[0;34m(\u001b[0m\u001b[0;34m)\u001b[0m\u001b[0;34m\u001b[0m\u001b[0;34m\u001b[0m\u001b[0m\n\u001b[0;32m-> 1189\u001b[0;31m             \u001b[0mout\u001b[0m \u001b[0;34m=\u001b[0m \u001b[0meval\u001b[0m\u001b[0;34m(\u001b[0m\u001b[0mcode\u001b[0m\u001b[0;34m,\u001b[0m \u001b[0mglob\u001b[0m\u001b[0;34m,\u001b[0m \u001b[0mlocal_ns\u001b[0m\u001b[0;34m)\u001b[0m\u001b[0;34m\u001b[0m\u001b[0;34m\u001b[0m\u001b[0m\n\u001b[0m\u001b[1;32m   1190\u001b[0m             \u001b[0mend\u001b[0m \u001b[0;34m=\u001b[0m \u001b[0mclock2\u001b[0m\u001b[0;34m(\u001b[0m\u001b[0;34m)\u001b[0m\u001b[0;34m\u001b[0m\u001b[0;34m\u001b[0m\u001b[0m\n\u001b[1;32m   1191\u001b[0m         \u001b[0;32melse\u001b[0m\u001b[0;34m:\u001b[0m\u001b[0;34m\u001b[0m\u001b[0;34m\u001b[0m\u001b[0m\n",
            "\u001b[0;32m<timed eval>\u001b[0m in \u001b[0;36m<module>\u001b[0;34m()\u001b[0m\n",
            "\u001b[0;32m<ipython-input-16-1d2212142be4>\u001b[0m in \u001b[0;36mfit\u001b[0;34m(X, Y, model, opt, loss_fn, epochs)\u001b[0m\n\u001b[1;32m      2\u001b[0m   \u001b[0;32mfor\u001b[0m \u001b[0mepoch\u001b[0m \u001b[0;32min\u001b[0m \u001b[0mrange\u001b[0m\u001b[0;34m(\u001b[0m\u001b[0mepochs\u001b[0m\u001b[0;34m)\u001b[0m\u001b[0;34m:\u001b[0m\u001b[0;34m\u001b[0m\u001b[0;34m\u001b[0m\u001b[0m\n\u001b[1;32m      3\u001b[0m     \u001b[0mloss\u001b[0m\u001b[0;34m=\u001b[0m\u001b[0mloss_fn\u001b[0m\u001b[0;34m(\u001b[0m\u001b[0mmodel\u001b[0m\u001b[0;34m(\u001b[0m\u001b[0mX\u001b[0m\u001b[0;34m)\u001b[0m\u001b[0;34m,\u001b[0m\u001b[0mY\u001b[0m\u001b[0;34m)\u001b[0m\u001b[0;34m\u001b[0m\u001b[0;34m\u001b[0m\u001b[0m\n\u001b[0;32m----> 4\u001b[0;31m     \u001b[0mloss\u001b[0m\u001b[0;34m.\u001b[0m\u001b[0mbackward\u001b[0m\u001b[0;34m(\u001b[0m\u001b[0;34m)\u001b[0m\u001b[0;34m\u001b[0m\u001b[0;34m\u001b[0m\u001b[0m\n\u001b[0m\u001b[1;32m      5\u001b[0m     \u001b[0mopt\u001b[0m\u001b[0;34m.\u001b[0m\u001b[0mstep\u001b[0m\u001b[0;34m(\u001b[0m\u001b[0;34m)\u001b[0m\u001b[0;34m\u001b[0m\u001b[0;34m\u001b[0m\u001b[0m\n\u001b[1;32m      6\u001b[0m     \u001b[0mopt\u001b[0m\u001b[0;34m.\u001b[0m\u001b[0mzero_grad\u001b[0m\u001b[0;34m(\u001b[0m\u001b[0;34m)\u001b[0m\u001b[0;34m\u001b[0m\u001b[0;34m\u001b[0m\u001b[0m\n",
            "\u001b[0;32m/usr/local/lib/python3.6/dist-packages/torch/tensor.py\u001b[0m in \u001b[0;36mbackward\u001b[0;34m(self, gradient, retain_graph, create_graph)\u001b[0m\n\u001b[1;32m    164\u001b[0m                 \u001b[0mproducts\u001b[0m\u001b[0;34m.\u001b[0m \u001b[0mDefaults\u001b[0m \u001b[0mto\u001b[0m\u001b[0;31m \u001b[0m\u001b[0;31m`\u001b[0m\u001b[0;31m`\u001b[0m\u001b[0;32mFalse\u001b[0m\u001b[0;31m`\u001b[0m\u001b[0;31m`\u001b[0m\u001b[0;34m.\u001b[0m\u001b[0;34m\u001b[0m\u001b[0;34m\u001b[0m\u001b[0m\n\u001b[1;32m    165\u001b[0m         \"\"\"\n\u001b[0;32m--> 166\u001b[0;31m         \u001b[0mtorch\u001b[0m\u001b[0;34m.\u001b[0m\u001b[0mautograd\u001b[0m\u001b[0;34m.\u001b[0m\u001b[0mbackward\u001b[0m\u001b[0;34m(\u001b[0m\u001b[0mself\u001b[0m\u001b[0;34m,\u001b[0m \u001b[0mgradient\u001b[0m\u001b[0;34m,\u001b[0m \u001b[0mretain_graph\u001b[0m\u001b[0;34m,\u001b[0m \u001b[0mcreate_graph\u001b[0m\u001b[0;34m)\u001b[0m\u001b[0;34m\u001b[0m\u001b[0;34m\u001b[0m\u001b[0m\n\u001b[0m\u001b[1;32m    167\u001b[0m \u001b[0;34m\u001b[0m\u001b[0m\n\u001b[1;32m    168\u001b[0m     \u001b[0;32mdef\u001b[0m \u001b[0mregister_hook\u001b[0m\u001b[0;34m(\u001b[0m\u001b[0mself\u001b[0m\u001b[0;34m,\u001b[0m \u001b[0mhook\u001b[0m\u001b[0;34m)\u001b[0m\u001b[0;34m:\u001b[0m\u001b[0;34m\u001b[0m\u001b[0;34m\u001b[0m\u001b[0m\n",
            "\u001b[0;32m/usr/local/lib/python3.6/dist-packages/torch/autograd/__init__.py\u001b[0m in \u001b[0;36mbackward\u001b[0;34m(tensors, grad_tensors, retain_graph, create_graph, grad_variables)\u001b[0m\n\u001b[1;32m     97\u001b[0m     Variable._execution_engine.run_backward(\n\u001b[1;32m     98\u001b[0m         \u001b[0mtensors\u001b[0m\u001b[0;34m,\u001b[0m \u001b[0mgrad_tensors\u001b[0m\u001b[0;34m,\u001b[0m \u001b[0mretain_graph\u001b[0m\u001b[0;34m,\u001b[0m \u001b[0mcreate_graph\u001b[0m\u001b[0;34m,\u001b[0m\u001b[0;34m\u001b[0m\u001b[0;34m\u001b[0m\u001b[0m\n\u001b[0;32m---> 99\u001b[0;31m         allow_unreachable=True)  # allow_unreachable flag\n\u001b[0m\u001b[1;32m    100\u001b[0m \u001b[0;34m\u001b[0m\u001b[0m\n\u001b[1;32m    101\u001b[0m \u001b[0;34m\u001b[0m\u001b[0m\n",
            "\u001b[0;31mKeyboardInterrupt\u001b[0m: "
          ]
        }
      ]
    },
    {
      "cell_type": "code",
      "metadata": {
        "id": "ww6EJU3di329",
        "colab_type": "code",
        "colab": {}
      },
      "source": [
        "hat=[]\n",
        "T=model(X_test)\n",
        "for i in range(T.shape[0]):\n",
        "  nmax=0\n",
        "  for j in range(10):\n",
        "    if T[i][j].item()>nmax:\n",
        "      nmax=T[i][j].item()\n",
        "      imax=j\n",
        "  hat.append(imax)\n",
        "Y_hat=torch.tensor(hat)"
      ],
      "execution_count": 0,
      "outputs": []
    },
    {
      "cell_type": "code",
      "metadata": {
        "id": "6mgI1ssY40Zf",
        "colab_type": "code",
        "outputId": "8b275728-1f1d-4973-d5bb-ae3f55d48311",
        "colab": {
          "base_uri": "https://localhost:8080/",
          "height": 34
        }
      },
      "source": [
        "Y_hat.shape"
      ],
      "execution_count": 0,
      "outputs": [
        {
          "output_type": "execute_result",
          "data": {
            "text/plain": [
              "torch.Size([10000])"
            ]
          },
          "metadata": {
            "tags": []
          },
          "execution_count": 21
        }
      ]
    },
    {
      "cell_type": "code",
      "metadata": {
        "id": "TfEaahnzl0Sp",
        "colab_type": "code",
        "outputId": "f41e2970-9586-4de8-e0cf-e08d479337e9",
        "colab": {
          "base_uri": "https://localhost:8080/",
          "height": 34
        }
      },
      "source": [
        "print('Test set accuracy: ',accuracy_score(Y_test.detach().cpu(),Y_hat.cpu()))"
      ],
      "execution_count": 0,
      "outputs": [
        {
          "output_type": "stream",
          "text": [
            "Test set accuracy:  0.8159\n"
          ],
          "name": "stdout"
        }
      ]
    },
    {
      "cell_type": "code",
      "metadata": {
        "id": "mAcYU2-H43v0",
        "colab_type": "code",
        "colab": {}
      },
      "source": [
        "torch.save(model.state_dict(), './statesBibhuti.pth')"
      ],
      "execution_count": 0,
      "outputs": []
    },
    {
      "cell_type": "code",
      "metadata": {
        "id": "7ub2_kqi7zCg",
        "colab_type": "code",
        "colab": {}
      },
      "source": [
        "hat=[]\n",
        "T=model(X_train)\n",
        "for i in range(T.shape[0]):\n",
        "  nmax=0\n",
        "  for j in range(10):\n",
        "    if T[i][j].item()>nmax:\n",
        "      nmax=T[i][j].item()\n",
        "      imax=j\n",
        "  hat.append(imax)\n",
        "Y_hat=torch.tensor(hat)"
      ],
      "execution_count": 0,
      "outputs": []
    },
    {
      "cell_type": "code",
      "metadata": {
        "id": "kjKW3UN38Pvw",
        "colab_type": "code",
        "outputId": "798b20ba-635f-43a8-cea3-19570dbc9198",
        "colab": {
          "base_uri": "https://localhost:8080/",
          "height": 34
        }
      },
      "source": [
        "print('Train set accuracy: ',accuracy_score(Y_train.detach().cpu(),Y_hat.cpu()))"
      ],
      "execution_count": 0,
      "outputs": [
        {
          "output_type": "stream",
          "text": [
            "Train set accuracy:  0.8763166666666666\n"
          ],
          "name": "stdout"
        }
      ]
    },
    {
      "cell_type": "code",
      "metadata": {
        "id": "XxUixMrGJaIP",
        "colab_type": "code",
        "colab": {}
      },
      "source": [
        ""
      ],
      "execution_count": 0,
      "outputs": []
    }
  ]
}